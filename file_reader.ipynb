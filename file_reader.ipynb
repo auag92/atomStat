{
 "cells": [
  {
   "cell_type": "code",
   "execution_count": 1,
   "metadata": {},
   "outputs": [],
   "source": [
    "import numpy as np"
   ]
  },
  {
   "cell_type": "code",
   "execution_count": 19,
   "metadata": {},
   "outputs": [],
   "source": [
    "def file_reader(fname):\n",
    "    with open(fname) as f:\n",
    "        lines = f.readlines()\n",
    "    n_atoms = int(lines[3])\n",
    "    coords = np.zeros((n_Atoms, 3))\n",
    "    for indx, line in enumerate(lines[9:]):\n",
    "        items = line.split(\" \")\n",
    "        coords[indx, 0] = float(items[1])\n",
    "        coords[indx, 1] = float(items[1])\n",
    "        coords[indx, 2] = float(items[1])\n",
    "    return coords"
   ]
  }
 ],
 "metadata": {
  "kernelspec": {
   "display_name": "Python 3",
   "language": "python",
   "name": "python3"
  },
  "language_info": {
   "codemirror_mode": {
    "name": "ipython",
    "version": 3
   },
   "file_extension": ".py",
   "mimetype": "text/x-python",
   "name": "python",
   "nbconvert_exporter": "python",
   "pygments_lexer": "ipython3",
   "version": "3.6.6"
  }
 },
 "nbformat": 4,
 "nbformat_minor": 2
}
