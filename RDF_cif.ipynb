{
 "cells": [
  {
   "cell_type": "code",
   "execution_count": 1,
   "metadata": {},
   "outputs": [],
   "source": [
    "%load_ext autoreload\n",
    "%autoreload 2"
   ]
  },
  {
   "cell_type": "code",
   "execution_count": 2,
   "metadata": {},
   "outputs": [],
   "source": [
    "import numpy as np\n",
    "import scipy\n",
    "import ase.io as aio\n",
    "import scipy.io as sio\n",
    "import glob\n",
    "from toolz.curried import pipe, curry"
   ]
  },
  {
   "cell_type": "code",
   "execution_count": 3,
   "metadata": {},
   "outputs": [],
   "source": [
    "from ase.neighborlist import neighbor_list"
   ]
  },
  {
   "cell_type": "code",
   "execution_count": 4,
   "metadata": {},
   "outputs": [],
   "source": [
    "import matplotlib.pyplot as plt\n",
    "import matplotlib as mpl\n",
    "mpl.rcParams['lines.linewidth'] = 2\n",
    "mpl.rcParams['lines.color'] = 'r'\n",
    "plt.style.use('ggplot')\n",
    "mpl.rcParams['figure.figsize'] = [8.0, 6.0]\n",
    "mpl.rcParams['figure.dpi'] = 80\n",
    "mpl.rcParams['savefig.dpi'] = 100\n",
    "\n",
    "mpl.rcParams['font.size'] = 12\n",
    "mpl.rcParams['legend.fontsize'] = 'large'\n",
    "mpl.rcParams['figure.titlesize'] = 'medium'"
   ]
  },
  {
   "cell_type": "code",
   "execution_count": 5,
   "metadata": {},
   "outputs": [],
   "source": [
    "from ase import Atoms\n",
    "import numpy.fft as mf"
   ]
  },
  {
   "cell_type": "code",
   "execution_count": 11,
   "metadata": {},
   "outputs": [],
   "source": [
    "import numpy.fft as mf\n",
    "\n",
    "def epanechnikov(u, h):\n",
    "    p = 0.75*(5**(-0.5))*(1 - (u**2)/(5*h**2))/h\n",
    "    p[p<0] = 0\n",
    "    return p\n",
    "\n",
    "\n",
    "def mk_kernel(width, x):\n",
    "    steps = x[1:] - x[:-1]\n",
    "    width = width/np.sqrt(5)\n",
    "\n",
    "    if not np.all(np.isclose(steps[0], steps)):\n",
    "        raise ValueError('Bins need to be same width!')\n",
    "        return None\n",
    "\n",
    "    k_half = int((np.sqrt(5)*width)//steps[0] + 1)\n",
    "    u = np.linspace(-k_half*steps[0],k_half*steps[0],k_half*2+1)\n",
    "\n",
    "    kernel = epanechnikov(u=u, h=width)\n",
    "    shift_to_mid = -len(kernel)//2 + 1\n",
    "    kernel_arr = np.zeros(len(x))\n",
    "    kernel_arr[:len(kernel)] = kernel\n",
    "    kernel_arr = np.roll(kernel_arr, shift_to_mid)\n",
    "    return kernel_arr\n",
    "\n",
    "\n",
    "def conv_kernel(kern_arr, p):\n",
    "    h1 = mf.fftn(kern_arr)\n",
    "    h2 = mf.fftn(p)\n",
    "    density = mf.ifftn(h1.conj() * h2).real\n",
    "    return density"
   ]
  },
  {
   "cell_type": "markdown",
   "metadata": {},
   "source": [
    "**Computation of RDF using neighbor_list taking into account periodicity**"
   ]
  },
  {
   "cell_type": "code",
   "execution_count": 6,
   "metadata": {},
   "outputs": [],
   "source": [
    "atoms = aio.read(\"data/struct_1.cif\")"
   ]
  },
  {
   "cell_type": "markdown",
   "metadata": {},
   "source": [
    "**Computation of RDF for MFI using neighbor_list taking into account periodicity**"
   ]
  },
  {
   "cell_type": "code",
   "execution_count": 7,
   "metadata": {},
   "outputs": [],
   "source": [
    "sym1 = \"H\"\n",
    "sym2 = \"C\""
   ]
  },
  {
   "cell_type": "code",
   "execution_count": 18,
   "metadata": {},
   "outputs": [
    {
     "name": "stdout",
     "output_type": "stream",
     "text": [
      "CPU times: user 232 ms, sys: 273 ms, total: 505 ms\n",
      "Wall time: 95.9 ms\n"
     ]
    }
   ],
   "source": [
    "%%time\n",
    "cif = \"data/struct_1.cif\"\n",
    "\n",
    "atom = pipe(cif, \n",
    "            lambda cif: aio.read(cif), \n",
    "            lambda x: x.repeat([1, 1, 1]))\n",
    "\n",
    "syms = np.asarray(atom.get_chemical_symbols())\n",
    "idx_o = np.where(syms == sym1)[0]\n",
    "idx_s = np.where(syms == sym2)[0]\n",
    "\n",
    "coords = atom.get_positions()\n",
    "coords_o = coords[idx_o]\n",
    "coords_s = coords[idx_s]\n",
    "\n",
    "cell = atom.get_cell()\n",
    "\n",
    "N_o = len(idx_o)\n",
    "N_s = len(idx_s)\n",
    "\n",
    "pbc = atom.get_pbc()\n",
    "\n",
    "atom_o = Atoms(positions=coords_o, \n",
    "               cell=cell, pbc=pbc, \n",
    "               symbols=[sym1]*N_o)\n",
    "\n",
    "atom_s = Atoms(positions=coords_s, \n",
    "               cell=cell, pbc=pbc, \n",
    "               symbols=[sym2]*N_s)\n",
    "\n",
    "\n",
    "cutoff_ = 5\n",
    "bins = np.linspace(0.0, cutoff_ + 2, 1001)\n",
    "vols = 4 / 3 * np.pi * (bins[1:]**3 - bins[:-1]**3)\n",
    "\n",
    "a = atom_o\n",
    "N = len(a)\n",
    "\n",
    "i, j, d, D = neighbor_list('ijdD', a, cutoff=cutoff_, self_interaction=True)\n",
    "\n",
    "h, bin_edges = np.histogram(d, bins)\n",
    "\n",
    "pdf_C = h / N\n",
    "\n",
    "d_bin = (bin_edges[1] - bin_edges[2]) / 2\n",
    "bin_centers = bin_edges[:-1] + d_bin\n",
    "\n",
    "a = atom_s\n",
    "N = len(a)\n",
    "\n",
    "i, j, d, D = neighbor_list('ijdD', a, cutoff=cutoff_, self_interaction=True)\n",
    "\n",
    "h, bin_edges = np.histogram(d, bins)\n",
    "\n",
    "pdf_H = h / (N)"
   ]
  },
  {
   "cell_type": "code",
   "execution_count": 19,
   "metadata": {},
   "outputs": [
    {
     "data": {
      "image/png": "[encoded data removed]",
      "text/plain": [
       "<Figure size 432x288 with 1 Axes>"
      ]
     },
     "metadata": {
      "needs_background": "light"
     },
     "output_type": "display_data"
    },
    {
     "data": {
      "image/png": "[encoded data removed]",
      "text/plain": [
       "<Figure size 432x288 with 1 Axes>"
      ]
     },
     "metadata": {
      "needs_background": "light"
     },
     "output_type": "display_data"
    }
   ],
   "source": [
    "d_bin = (bin_edges[1] - bin_edges[2]) / 2\n",
    "bin_centers = bin_edges[:-1] + d_bin\n",
    "\n",
    "plt.plot(bin_centers, pdf_C)\n",
    "plt.show()\n",
    "\n",
    "plt.plot(bin_centers, pdf_H)\n",
    "plt.show()"
   ]
  },
  {
   "cell_type": "code",
   "execution_count": 21,
   "metadata": {},
   "outputs": [
    {
     "data": {
      "image/png": "[encoded data removed]",
      "text/plain": [
       "<Figure size 432x288 with 1 Axes>"
      ]
     },
     "metadata": {
      "needs_background": "light"
     },
     "output_type": "display_data"
    }
   ],
   "source": [
    "ix = 100\n",
    "sing_kernel = mk_kernel(width=0.05, x=bin_centers[ix:])\n",
    "\n",
    "smooth_pdf_C = conv_kernel(sing_kernel, pdf_C[ix:] / vols[ix:])\n",
    "smooth_pdf_H = conv_kernel(sing_kernel, pdf_H[ix:] / vols[ix:])\n",
    "\n",
    "plt.plot(bin_centers[100:], smooth_pdf_C)\n",
    "plt.plot(bin_centers[100:], smooth_pdf_H)\n",
    "plt.show()"
   ]
  }
 ],
 "metadata": {
  "kernelspec": {
   "display_name": "Python 3",
   "language": "python",
   "name": "python3"
  },
  "language_info": {
   "codemirror_mode": {
    "name": "ipython",
    "version": 3
   },
   "file_extension": ".py",
   "mimetype": "text/x-python",
   "name": "python",
   "nbconvert_exporter": "python",
   "pygments_lexer": "ipython3",
   "version": "3.6.6"
  }
 },
 "nbformat": 4,
 "nbformat_minor": 2
}
